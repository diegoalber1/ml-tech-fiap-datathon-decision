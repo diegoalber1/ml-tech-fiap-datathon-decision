{
 "cells": [
  {
   "cell_type": "markdown",
   "id": "d1613c2d",
   "metadata": {},
   "source": [
    "# ----------------------------------------\n",
    "# IMPORTS GERAIS\n",
    "# ----------------------------------------"
   ]
  },
  {
   "cell_type": "code",
   "execution_count": 17,
   "id": "4e1cfc96",
   "metadata": {},
   "outputs": [],
   "source": [
    "import json\n",
    "import os\n",
    "import pandas as pd\n",
    "import numpy as np\n",
    "from sklearn.feature_extraction.text import TfidfVectorizer\n",
    "from sklearn.metrics.pairwise import cosine_similarity\n",
    "from sklearn.model_selection import train_test_split\n",
    "from sklearn.ensemble import RandomForestClassifier\n",
    "from sklearn.preprocessing import LabelEncoder\n",
    "from sklearn.metrics import classification_report, accuracy_score\n",
    "import pickle\n",
    "import mlflow\n",
    "import mlflow.sklearn\n",
    "from nltk.corpus import stopwords\n",
    "\n",
    "\n",
    "pd.set_option('display.max_colwidth', None)\n"
   ]
  },
  {
   "cell_type": "markdown",
   "id": "9bd46822",
   "metadata": {},
   "source": [
    "# ----------------------------------------\n",
    "# CARREGAMENTO DOS DADOS\n",
    "# ----------------------------------------"
   ]
  },
  {
   "cell_type": "markdown",
   "id": "697d09be",
   "metadata": {},
   "source": [
    "### Jobs"
   ]
  },
  {
   "cell_type": "code",
   "execution_count": 2,
   "id": "2de56955",
   "metadata": {},
   "outputs": [
    {
     "name": "stdout",
     "output_type": "stream",
     "text": [
      "Jobs shape: (14081, 8)\n"
     ]
    }
   ],
   "source": [
    "with open('data/jobs/jobs.json') as f:\n",
    "    jobs = json.load(f)\n",
    "\n",
    "jobs_rows = []\n",
    "for job_id, data in jobs.items():\n",
    "    info = data.get('informacoes_basicas', {})\n",
    "    perfil = data.get('perfil_vaga', {})\n",
    "    jobs_rows.append({\n",
    "        'job_id': job_id,\n",
    "        'titulo_vaga': info.get('titulo_vaga', ''),\n",
    "        'vaga_sap': info.get('vaga_sap', 'Não'),\n",
    "        'nivel_profissional_vaga': perfil.get('nivel profissional', ''),\n",
    "        'nivel_ingles_vaga': perfil.get('nivel_ingles', ''),\n",
    "        'nivel_espanhol_vaga': perfil.get('nivel_espanhol', ''),\n",
    "        'areas_atuacao_vaga': perfil.get('areas_atuacao', ''),\n",
    "        'descricao': perfil.get('principais_atividades', '') + ' ' + perfil.get('competencia_tecnicas_e_comportamentais', '')\n",
    "    })\n",
    "jobs_df = pd.DataFrame(jobs_rows)\n",
    "print(\"Jobs shape:\", jobs_df.shape)"
   ]
  },
  {
   "cell_type": "markdown",
   "id": "a0b853b6",
   "metadata": {},
   "source": [
    "### Prospects"
   ]
  },
  {
   "cell_type": "code",
   "execution_count": 3,
   "id": "994ed43d",
   "metadata": {},
   "outputs": [
    {
     "name": "stdout",
     "output_type": "stream",
     "text": [
      "Prospects shape: (53759, 4)\n"
     ]
    }
   ],
   "source": [
    "with open('data/prospects/prospects.json') as f:\n",
    "    prospects = json.load(f)\n",
    "\n",
    "prospects_rows = []\n",
    "for job_id, data in prospects.items():\n",
    "    for p in data.get('prospects', []):\n",
    "        status = p.get('situacao_candidado', '').lower()\n",
    "        label = 1 if 'contratado' in status or 'aprovado' in status else 0\n",
    "        prospects_rows.append({\n",
    "            'job_id': job_id,\n",
    "            'applicant_id': p.get('codigo'),\n",
    "            'situacao': p.get('situacao_candidado', ''),\n",
    "            'label': label\n",
    "        })\n",
    "prospects_df = pd.DataFrame(prospects_rows)\n",
    "print(\"Prospects shape:\", prospects_df.shape)"
   ]
  },
  {
   "cell_type": "markdown",
   "id": "f6d2d207",
   "metadata": {},
   "source": [
    "### Applicants"
   ]
  },
  {
   "cell_type": "code",
   "execution_count": 4,
   "id": "a9828b35",
   "metadata": {},
   "outputs": [
    {
     "name": "stdout",
     "output_type": "stream",
     "text": [
      "Applicants shape: (42482, 6)\n"
     ]
    }
   ],
   "source": [
    "with open('data/applicants/applicants.json') as f:\n",
    "    applicants = json.load(f)\n",
    "\n",
    "applicants_rows = []\n",
    "for app_id, data in applicants.items():\n",
    "    form = data.get('formacao_e_idiomas', {})\n",
    "    prof = data.get('informacoes_profissionais', {})\n",
    "    applicants_rows.append({\n",
    "        'applicant_id': app_id,\n",
    "        'nivel_academico': form.get('nivel_academico', ''),\n",
    "        'nivel_ingles': form.get('nivel_ingles', ''),\n",
    "        'nivel_espanhol': form.get('nivel_espanhol', ''),\n",
    "        'area_atuacao': prof.get('area_atuacao', ''),\n",
    "        'cv_text': data.get('cv_pt', '')\n",
    "    })\n",
    "applicants_df = pd.DataFrame(applicants_rows)\n",
    "print(\"Applicants shape:\", applicants_df.shape)"
   ]
  },
  {
   "cell_type": "markdown",
   "id": "31702897",
   "metadata": {},
   "source": [
    "# ----------------------------------------\n",
    "# ANÁLISE EXPLORATÓRIA (EDA)\n",
    "# ----------------------------------------"
   ]
  },
  {
   "cell_type": "code",
   "execution_count": 5,
   "id": "c83cc00c",
   "metadata": {},
   "outputs": [
    {
     "name": "stdout",
     "output_type": "stream",
     "text": [
      "\n",
      "Jobs sample:\n",
      "   job_id                                        titulo_vaga vaga_sap  \\\n",
      "0   5185                                   Operation Lead -      Não   \n",
      "1   5184                             Consultor PP/QM Sênior      Não   \n",
      "2   5183                              ANALISTA PL/JR C/ SQL      Não   \n",
      "3   5182                     Technical Architect - 11894809      Não   \n",
      "4   5181  Consultor SAP AUTHORIZATION (BCA) -Pleno / Sênior      Não   \n",
      "\n",
      "  nivel_profissional_vaga nivel_ingles_vaga nivel_espanhol_vaga  \\\n",
      "0                  Sênior          Avançado             Fluente   \n",
      "1                  Sênior           Fluente              Nenhum   \n",
      "2                Analista            Nenhum       Intermediário   \n",
      "3                Analista            Básico              Básico   \n",
      "4                  Sênior     Intermediário              Nenhum   \n",
      "\n",
      "                  areas_atuacao_vaga  \\\n",
      "0       TI - Sistemas e Ferramentas-   \n",
      "1  TI - Desenvolvimento/Programação-   \n",
      "2       TI - Sistemas e Ferramentas-   \n",
      "3                     TI - Projetos-   \n",
      "4                          TI - SAP-   \n",
      "\n",
      "                                           descricao  \n",
      "0  Operations Lead\\n\\nRoles & Responsibilities:\\n...  \n",
      "1  Consultor PP/QM Sr.\\n\\n• Consultor PP/QM Sênio...  \n",
      "2  Descrição – Atividades:\\n\\no Monitoramento das...  \n",
      "3  Descrição/Comentário: Architecture Frameworks ...  \n",
      "4  Experiência como Consultor SAP AUTHORIZATION (...  \n",
      "\n",
      "Prospects sample:\n",
      "   job_id applicant_id                     situacao  label\n",
      "0   4530        25632  Encaminhado ao Requisitante      0\n",
      "1   4530        25529  Encaminhado ao Requisitante      0\n",
      "2   4531        25364     Contratado pela Decision      1\n",
      "3   4531        25360  Encaminhado ao Requisitante      0\n",
      "4   4533        26338     Contratado pela Decision      1\n",
      "\n",
      "Applicants sample:\n",
      "   applicant_id             nivel_academico   nivel_ingles nivel_espanhol  \\\n",
      "0        31000                                                             \n",
      "1        31001  Ensino Superior Incompleto         Nenhum         Nenhum   \n",
      "2        31002    Ensino Superior Completo  Intermediário         Básico   \n",
      "3        31003  Ensino Superior Incompleto         Nenhum         Nenhum   \n",
      "4        31004                                                             \n",
      "\n",
      "     area_atuacao                                            cv_text  \n",
      "0                  assistente administrativo\\n\\n\\nsantosbatista\\n...  \n",
      "1  Administrativa  formação acadêmica\\nensino médio (2º grau) em ...  \n",
      "2  Administrativa  objetivo: área administrativa | financeira\\n\\n...  \n",
      "3  Administrativa  formação\\nensino médio completo\\ninformática i...  \n",
      "4                  última atualização em 09/11/2021\\n­ sp\\n\\nensi...  \n",
      "\n",
      "Labels balance:\n",
      " label\n",
      "0    44544\n",
      "1     9215\n",
      "Name: count, dtype: int64\n",
      "\n",
      "Missing - Jobs:\n",
      " job_id                     0\n",
      "titulo_vaga                0\n",
      "vaga_sap                   0\n",
      "nivel_profissional_vaga    0\n",
      "nivel_ingles_vaga          0\n",
      "nivel_espanhol_vaga        0\n",
      "areas_atuacao_vaga         0\n",
      "descricao                  0\n",
      "dtype: int64\n",
      "\n",
      "Missing - Applicants:\n",
      " applicant_id       0\n",
      "nivel_academico    0\n",
      "nivel_ingles       0\n",
      "nivel_espanhol     0\n",
      "area_atuacao       0\n",
      "cv_text            0\n",
      "dtype: int64\n"
     ]
    }
   ],
   "source": [
    "print(\"\\nJobs sample:\\n\", jobs_df.head())\n",
    "print(\"\\nProspects sample:\\n\", prospects_df.head())\n",
    "print(\"\\nApplicants sample:\\n\", applicants_df.head())\n",
    "\n",
    "print(\"\\nLabels balance:\\n\", prospects_df['label'].value_counts())\n",
    "\n",
    "# Verificar nulos\n",
    "print(\"\\nMissing - Jobs:\\n\", jobs_df.isnull().sum())\n",
    "print(\"\\nMissing - Applicants:\\n\", applicants_df.isnull().sum())\n"
   ]
  },
  {
   "cell_type": "markdown",
   "id": "01e75468",
   "metadata": {},
   "source": [
    "# ----------------------------------------\n",
    "# FEATURE ENGINEERING - NLP match_score\n",
    "# ----------------------------------------"
   ]
  },
  {
   "cell_type": "code",
   "execution_count": 6,
   "id": "1625255d",
   "metadata": {},
   "outputs": [
    {
     "name": "stdout",
     "output_type": "stream",
     "text": [
      "\\Merged data:\n",
      "   job_id applicant_id                     situacao  label  \\\n",
      "0   4530        25632  Encaminhado ao Requisitante      0   \n",
      "1   4530        25529  Encaminhado ao Requisitante      0   \n",
      "2   4531        25364     Contratado pela Decision      1   \n",
      "3   4531        25360  Encaminhado ao Requisitante      0   \n",
      "4   4533        26338     Contratado pela Decision      1   \n",
      "\n",
      "                                         titulo_vaga vaga_sap  \\\n",
      "0                                CONSULTOR CONTROL M      Não   \n",
      "1                                CONSULTOR CONTROL M      Não   \n",
      "2  2021-2607395-PeopleSoft Application Engine-Dom...      Não   \n",
      "3  2021-2607395-PeopleSoft Application Engine-Dom...      Não   \n",
      "4  2021-2605708-Microfocus Application Life Cycle...      Não   \n",
      "\n",
      "  nivel_profissional_vaga nivel_ingles_vaga nivel_espanhol_vaga  \\\n",
      "0                   Pleno            Nenhum              Nenhum   \n",
      "1                   Pleno            Nenhum              Nenhum   \n",
      "2                  Sênior            Nenhum              Nenhum   \n",
      "3                  Sênior            Nenhum              Nenhum   \n",
      "4                  Sênior           Técnico             Fluente   \n",
      "\n",
      "                     areas_atuacao_vaga  \\\n",
      "0     TI - Desenvolvimento/Programação-   \n",
      "1     TI - Desenvolvimento/Programação-   \n",
      "2  Gestão e Alocação de Recursos de TI-   \n",
      "3  Gestão e Alocação de Recursos de TI-   \n",
      "4  Gestão e Alocação de Recursos de TI-   \n",
      "\n",
      "                                           descricao  \\\n",
      "0  - Experiência comprovada em projetos de contro...   \n",
      "1  - Experiência comprovada em projetos de contro...   \n",
      "2  Key skills required for the job are:\\n\\nPeople...   \n",
      "3  Key skills required for the job are:\\n\\nPeople...   \n",
      "4  Arquiteto\\n\\nFoco na área e automação.\\n\\nRequ...   \n",
      "\n",
      "            nivel_academico   nivel_ingles nivel_espanhol  \\\n",
      "0                                                           \n",
      "1  Ensino Superior Completo  Intermediário         Básico   \n",
      "2  Ensino Superior Completo       Avançado  Intermediário   \n",
      "3                                                           \n",
      "4                                                           \n",
      "\n",
      "                                        area_atuacao  \\\n",
      "0                                                      \n",
      "1  TI - Governança, TI - Infraestrutura, TI - Pro...   \n",
      "2                                      TI - Projetos   \n",
      "3                                                      \n",
      "4                                                      \n",
      "\n",
      "                                             cv_text  \n",
      "0  \\ndados pessoais\\nestado civil: casado\\nidade:...  \n",
      "1  solteiro, 47 anos\\n\\nestrada meringuava, nº 17...  \n",
      "2  \\n\\nárea de atuação: lider de consultoria / ge...  \n",
      "3  informações pessoais\\n estado civil: casado\\n...  \n",
      "4  solteiro, brasileiro, 21/06/1987\\nhabilitação ...  \n"
     ]
    },
    {
     "name": "stderr",
     "output_type": "stream",
     "text": [
      "<>:4: SyntaxWarning: invalid escape sequence '\\M'\n",
      "<>:18: SyntaxWarning: invalid escape sequence '\\m'\n",
      "<>:4: SyntaxWarning: invalid escape sequence '\\M'\n",
      "<>:18: SyntaxWarning: invalid escape sequence '\\m'\n",
      "/tmp/ipykernel_38306/415529653.py:4: SyntaxWarning: invalid escape sequence '\\M'\n",
      "  print(\"\\Merged data:\\n\", df.head())\n",
      "/tmp/ipykernel_38306/415529653.py:18: SyntaxWarning: invalid escape sequence '\\m'\n",
      "  print(\"\\match_score:\\n\", df[['match_score']].head())\n"
     ]
    },
    {
     "name": "stdout",
     "output_type": "stream",
     "text": [
      "\\match_score:\n",
      "    match_score\n",
      "0     0.410945\n",
      "1     0.186244\n",
      "2     0.029640\n",
      "3     0.051904\n",
      "4     0.247603\n"
     ]
    }
   ],
   "source": [
    "# Merge de todas as tabelas\n",
    "df = prospects_df.merge(jobs_df, on='job_id', how='inner').merge(applicants_df, on='applicant_id', how='inner')\n",
    "\n",
    "print(\"\\Merged data:\\n\", df.head())\n",
    "\n",
    "# NLP TF-IDF\n",
    "\n",
    "tfidf = TfidfVectorizer(max_features=1000)\n",
    "df['descricao'] = df['descricao'].fillna('')\n",
    "df['cv_text'] = df['cv_text'].fillna('')\n",
    "\n",
    "job_desc = tfidf.fit_transform(df['descricao'])\n",
    "cv_text = tfidf.transform(df['cv_text'])\n",
    "\n",
    "# Similaridade do cosseno\n",
    "df['match_score'] = [cosine_similarity(job_desc[i], cv_text[i])[0][0] for i in range(job_desc.shape[0])]\n",
    "\n",
    "print(\"\\match_score:\\n\", df[['match_score']].head())\n",
    "\n",
    "os.makedirs(\"../notebooks/saved_models\", exist_ok=True)\n",
    "tfidf_path = \"../notebooks/saved_models/tfidf_vectorizer.pkl\"\n",
    "\n",
    "with open(tfidf_path, \"wb\") as f:\n",
    "    pickle.dump(tfidf, f)"
   ]
  },
  {
   "cell_type": "code",
   "execution_count": 7,
   "id": "51a36a1a",
   "metadata": {},
   "outputs": [],
   "source": [
    "df.to_csv('data/df_completo.csv', index=False)\n",
    "\n",
    "colunas = [\n",
    "    \"nivel_profissional_vaga\",\n",
    "    \"nivel_ingles_vaga\",\n",
    "    \"nivel_ingles\",\n",
    "    \"nivel_academico\",\n",
    "    \"descricao\",\n",
    "    \"cv_text\"\n",
    "\n",
    "]\n",
    "df[colunas].to_csv(\"data/selected_df_columns.csv\", index=False)"
   ]
  },
  {
   "cell_type": "code",
   "execution_count": 8,
   "id": "f4cbb347",
   "metadata": {},
   "outputs": [],
   "source": [
    "colunas = [\n",
    "    \"nivel_profissional_vaga\",\n",
    "    \"nivel_ingles_vaga\",\n",
    "    \"nivel_ingles\",\n",
    "    \"nivel_academico\",\n",
    "    \"descricao\",\n",
    "    \"cv_text\"\n",
    "]\n",
    "\n",
    "\n",
    "df_filtrado = df[df['label'] == 1][colunas]\n",
    "df_filtrado.to_csv(\"data/selected_df_columns_label_1.csv\", index=False)"
   ]
  },
  {
   "cell_type": "code",
   "execution_count": 21,
   "id": "affbe073",
   "metadata": {},
   "outputs": [
    {
     "name": "stdout",
     "output_type": "stream",
     "text": [
      "nivel_profissional_vaga                      Sênior\n",
      "nivel_ingles_vaga                            Nenhum\n",
      "nivel_ingles                               Avançado\n",
      "nivel_academico            Ensino Superior Completo\n",
      "Name: 2, dtype: object\n"
     ]
    }
   ],
   "source": [
    "print(df_filtrado[[\"nivel_profissional_vaga\", \"nivel_ingles_vaga\", \"nivel_ingles\" ,\"nivel_academico\"]].iloc[0])"
   ]
  },
  {
   "cell_type": "markdown",
   "id": "d65a318f",
   "metadata": {},
   "source": [
    "# ----------------------------------------\n",
    "# PRÉ-PROCESSAMENTO\n",
    "# ----------------------------------------"
   ]
  },
  {
   "cell_type": "code",
   "execution_count": 9,
   "id": "eabcd4c4",
   "metadata": {},
   "outputs": [],
   "source": [
    "le1 = LabelEncoder()\n",
    "le2 = LabelEncoder()\n",
    "le3 = LabelEncoder()\n",
    "le4 = LabelEncoder()\n",
    "\n",
    "df['nivel_profissional_vaga_enc'] = le1.fit_transform(df['nivel_profissional_vaga'].astype(str))\n",
    "df['nivel_ingles_vaga_enc'] = le2.fit_transform(df['nivel_ingles_vaga'].astype(str))\n",
    "df['nivel_ingles_enc'] = le3.fit_transform(df['nivel_ingles'].astype(str))\n",
    "df['nivel_academico_enc'] = le4.fit_transform(df['nivel_academico'].astype(str))\n",
    "\n",
    "features = [\n",
    "    'match_score',\n",
    "    'nivel_profissional_vaga_enc',\n",
    "    'nivel_ingles_vaga_enc',\n",
    "    'nivel_ingles_enc',\n",
    "    'nivel_academico_enc'\n",
    "]\n",
    "X = df[features]\n",
    "y = df['label']\n",
    "\n",
    "X_train, X_test, y_train, y_test = train_test_split(X, y, stratify=y, random_state=42, test_size=0.2)\n",
    "\n",
    "\n",
    "with open('saved_models/le1_nivel_profissional_vaga.pkl', 'wb') as f:\n",
    "    pickle.dump(le1, f)\n",
    "with open('saved_models/le2_nivel_ingles_vaga.pkl', 'wb') as f:\n",
    "    pickle.dump(le2, f)\n",
    "with open('saved_models/le3_nivel_ingles.pkl', 'wb') as f:\n",
    "    pickle.dump(le3, f)\n",
    "with open('saved_models/le4_nivel_academico.pkl', 'wb') as f:\n",
    "    pickle.dump(le4, f)\n",
    "\n",
    "\n",
    "colunas = [\n",
    "    \"nivel_profissional_vaga_enc\",\n",
    "    \"nivel_ingles_vaga_enc\",\n",
    "    \"nivel_ingles_enc\",\n",
    "    \"nivel_academico_enc\",\n",
    "    \"match_score\"\n",
    "\n",
    "]\n",
    "df[colunas].to_csv(\"data/selected_features.csv\", index=False)"
   ]
  },
  {
   "cell_type": "markdown",
   "id": "a724be2f",
   "metadata": {},
   "source": [
    "\n",
    "# ----------------------------------------\n",
    "# TREINAMENTO DO MODELO\n",
    "# ----------------------------------------"
   ]
  },
  {
   "cell_type": "code",
   "execution_count": 10,
   "id": "3fdc95d0",
   "metadata": {},
   "outputs": [
    {
     "name": "stderr",
     "output_type": "stream",
     "text": [
      "2025/07/20 19:17:15 WARNING mlflow.models.model: `artifact_path` is deprecated. Please use `name` instead.\n"
     ]
    },
    {
     "name": "stdout",
     "output_type": "stream",
     "text": [
      "Accuracy: 0.720687742651137\n",
      "              precision    recall  f1-score   support\n",
      "\n",
      "           0       0.84      0.82      0.83      7453\n",
      "           1       0.21      0.23      0.22      1562\n",
      "\n",
      "    accuracy                           0.72      9015\n",
      "   macro avg       0.52      0.52      0.52      9015\n",
      "weighted avg       0.73      0.72      0.72      9015\n",
      "\n"
     ]
    },
    {
     "name": "stderr",
     "output_type": "stream",
     "text": [
      "/home/alberone/projects/fiap/ml-engineering/ml-tech-fiap-datathon-decision/venv/lib/python3.12/site-packages/mlflow/types/utils.py:452: UserWarning: Hint: Inferred schema contains integer column(s). Integer columns in Python cannot represent missing values. If your input data contains missing values at inference time, it will be encoded as floats and will cause a schema enforcement error. The best way to avoid this problem is to infer the model schema based on a realistic data sample (training dataset) that includes missing values. Alternatively, you can declare integer columns as doubles (float64) whenever these columns may have missing values. See `Handling Integers With Missing Values <https://www.mlflow.org/docs/latest/models.html#handling-integers-with-missing-values>`_ for more details.\n",
      "  warnings.warn(\n",
      "/home/alberone/projects/fiap/ml-engineering/ml-tech-fiap-datathon-decision/venv/lib/python3.12/site-packages/mlflow/types/utils.py:452: UserWarning: Hint: Inferred schema contains integer column(s). Integer columns in Python cannot represent missing values. If your input data contains missing values at inference time, it will be encoded as floats and will cause a schema enforcement error. The best way to avoid this problem is to infer the model schema based on a realistic data sample (training dataset) that includes missing values. Alternatively, you can declare integer columns as doubles (float64) whenever these columns may have missing values. See `Handling Integers With Missing Values <https://www.mlflow.org/docs/latest/models.html#handling-integers-with-missing-values>`_ for more details.\n",
      "  warnings.warn(\n"
     ]
    },
    {
     "name": "stdout",
     "output_type": "stream",
     "text": [
      "\n",
      " Modelo registrado no MLflow Tracking Server.\n"
     ]
    }
   ],
   "source": [
    "mlflow.set_experiment(\"datathon_ml_pipeline\")\n",
    "\n",
    "with mlflow.start_run(run_name=\"RandomForest_MatchScore\"):\n",
    "    n_estimators = 100\n",
    "    random_state = 42\n",
    "\n",
    "    model = RandomForestClassifier(n_estimators=100, random_state=42, class_weight='balanced')\n",
    "    model.fit(X_train, y_train)\n",
    "\n",
    "    y_pred = model.predict(X_test)\n",
    "    acc = accuracy_score(y_test, y_pred)\n",
    "\n",
    "    print(\"Accuracy:\", acc)\n",
    "    print(classification_report(y_test, y_pred))\n",
    "\n",
    "    # MLflow tracking\n",
    "    mlflow.log_param(\"n_estimators\", n_estimators)\n",
    "    mlflow.log_param(\"random_state\", random_state)\n",
    "    mlflow.log_metric(\"accuracy\", acc)\n",
    "\n",
    "    # Salvar o modelo dentro do MLflow\n",
    "    mlflow.sklearn.log_model(\n",
    "                                model, \n",
    "                                \"random_forest_model\", \n",
    "                                input_example=X_test.iloc[:2]\n",
    "                            )\n",
    "\n",
    "print(\"\\n Modelo registrado no MLflow Tracking Server.\")\n"
   ]
  },
  {
   "cell_type": "markdown",
   "id": "6f61ff3a",
   "metadata": {},
   "source": [
    "# ----------------------------------------\n",
    "# VALIDAÇÃO + EXPORTAÇÃO\n",
    "# ----------------------------------------"
   ]
  },
  {
   "cell_type": "code",
   "execution_count": 11,
   "id": "cb63237e",
   "metadata": {},
   "outputs": [
    {
     "name": "stderr",
     "output_type": "stream",
     "text": [
      "<>:13: SyntaxWarning: invalid escape sequence '\\E'\n",
      "<>:13: SyntaxWarning: invalid escape sequence '\\E'\n",
      "/tmp/ipykernel_38306/2134396194.py:13: SyntaxWarning: invalid escape sequence '\\E'\n",
      "  print(\"\\Entrada para inferência:\\n\", exemplo)\n"
     ]
    },
    {
     "name": "stdout",
     "output_type": "stream",
     "text": [
      "\n",
      "Accuracy: 0.720687742651137\n",
      "\n",
      "Classification Report:\n",
      "               precision    recall  f1-score   support\n",
      "\n",
      "           0       0.84      0.82      0.83      7453\n",
      "           1       0.21      0.23      0.22      1562\n",
      "\n",
      "    accuracy                           0.72      9015\n",
      "   macro avg       0.52      0.52      0.52      9015\n",
      "weighted avg       0.73      0.72      0.72      9015\n",
      "\n",
      "\n",
      "Modelo salvo como modelo_datathon.pkl\n",
      "\\Entrada para inferência:\n",
      "        match_score  nivel_profissional_vaga_enc  nivel_ingles_vaga_enc  \\\n",
      "22607     0.339023                            9                      4   \n",
      "\n",
      "       nivel_ingles_enc  nivel_academico_enc  \n",
      "22607                 0                    0  \n",
      "\n",
      "Probabilidade de contratação: 0.0\n"
     ]
    }
   ],
   "source": [
    "y_pred = model.predict(X_test)\n",
    "print(\"\\nAccuracy:\", accuracy_score(y_test, y_pred))\n",
    "print(\"\\nClassification Report:\\n\", classification_report(y_test, y_pred))\n",
    "\n",
    "# Salvar modelo com pickle\n",
    "with open('saved_models/modelo_datathon.pkl', 'wb') as f:\n",
    "    pickle.dump(model, f)\n",
    "\n",
    "print(\"\\nModelo salvo como modelo_datathon.pkl\")\n",
    "\n",
    "# Inferência\n",
    "exemplo = X_test.iloc[0:1]\n",
    "print(\"\\Entrada para inferência:\\n\", exemplo)\n",
    "prob = model.predict_proba(exemplo)\n",
    "print(\"\\nProbabilidade de contratação:\", prob[0][1])\n",
    "\n",
    "# DataFrame de features de treino\n",
    "X_train.to_csv(\"../notebooks/saved_models/train_features.csv\", index=False)"
   ]
  },
  {
   "cell_type": "markdown",
   "id": "9b7d981a",
   "metadata": {},
   "source": [
    "# ----------------------------------------\n",
    "# UTIL\n",
    "# ----------------------------------------"
   ]
  },
  {
   "cell_type": "code",
   "execution_count": 12,
   "id": "bd16d39a",
   "metadata": {},
   "outputs": [
    {
     "name": "stdout",
     "output_type": "stream",
     "text": [
      "Amostra 2470:\n",
      "Features: [0.03876773 7.         3.         0.         0.        ]\n",
      "Predição: 1\n",
      "Probabilidade de contratação: 0.92\n",
      "----------------------------------------\n",
      "Amostra 38534:\n",
      "Features: [0.25515319 0.         1.         0.         0.        ]\n",
      "Predição: 1\n",
      "Probabilidade de contratação: 0.81\n",
      "----------------------------------------\n",
      "Amostra 6591:\n",
      "Features: [ 0.02681892 11.          4.          0.          0.        ]\n",
      "Predição: 1\n",
      "Probabilidade de contratação: 0.92\n",
      "----------------------------------------\n",
      "Amostra 12520:\n",
      "Features: [0.01438726 9.         0.         0.         0.        ]\n",
      "Predição: 1\n",
      "Probabilidade de contratação: 0.83\n",
      "----------------------------------------\n",
      "Amostra 25813:\n",
      "Features: [ 0.2249668 11.         3.         0.         0.       ]\n",
      "Predição: 1\n",
      "Probabilidade de contratação: 0.85\n",
      "----------------------------------------\n",
      "Amostra 33835:\n",
      "Features: [0.64111128 9.         4.         0.         0.        ]\n",
      "Predição: 1\n",
      "Probabilidade de contratação: 0.93\n",
      "----------------------------------------\n",
      "Amostra 13202:\n",
      "Features: [0.28053586 6.         2.         0.         0.        ]\n",
      "Predição: 1\n",
      "Probabilidade de contratação: 0.93\n",
      "----------------------------------------\n",
      "Amostra 9055:\n",
      "Features: [0.20279728 7.         4.         0.         0.        ]\n",
      "Predição: 1\n",
      "Probabilidade de contratação: 0.9109763367974445\n",
      "----------------------------------------\n",
      "Amostra 9459:\n",
      "Features: [0.20279728 9.         4.         0.         0.        ]\n",
      "Predição: 1\n",
      "Probabilidade de contratação: 0.9115311670724866\n",
      "----------------------------------------\n"
     ]
    }
   ],
   "source": [
    "import pickle\n",
    "\n",
    "# Carregar o modelo treinado\n",
    "with open('saved_models/modelo_datathon.pkl', 'rb') as f:\n",
    "    model = pickle.load(f)\n",
    "\n",
    "# Selecionar 200 amostras dos dados de treino\n",
    "X_sample = X_train.iloc[:200]\n",
    "\n",
    "# Fazer a inferência (predição)\n",
    "y_pred = model.predict(X_sample)\n",
    "y_prob = model.predict_proba(X_sample)[:, 1]  # Probabilidade da classe positiva\n",
    "\n",
    "# Filtrar apenas os que têm grande probabilidade de contratação (> 0.8)\n",
    "grande_prob_idx = y_prob > 0.8\n",
    "X_grande_prob = X_sample[grande_prob_idx]\n",
    "y_pred_grande_prob = y_pred[grande_prob_idx]\n",
    "y_prob_grande_prob = y_prob[grande_prob_idx]\n",
    "\n",
    "# Imprimir resultados\n",
    "for i, idx in enumerate(X_grande_prob.index):\n",
    "    print(f\"Amostra {idx}:\")\n",
    "    print(\"Features:\", X_grande_prob.loc[idx].values)\n",
    "    print(\"Predição:\", y_pred_grande_prob[i])\n",
    "    print(\"Probabilidade de contratação:\", y_prob_grande_prob[i])\n",
    "    print(\"-\" * 40)"
   ]
  },
  {
   "cell_type": "code",
   "execution_count": 13,
   "id": "6a71fabc",
   "metadata": {},
   "outputs": [
    {
     "name": "stdout",
     "output_type": "stream",
     "text": [
      "       match_score  nivel_profissional_vaga_enc  nivel_ingles_vaga_enc  \\\n",
      "2470      0.038768                            7                      3   \n",
      "38534     0.255153                            0                      1   \n",
      "6591      0.026819                           11                      4   \n",
      "12520     0.014387                            9                      0   \n",
      "25813     0.224967                           11                      3   \n",
      "33835     0.641111                            9                      4   \n",
      "13202     0.280536                            6                      2   \n",
      "9055      0.202797                            7                      4   \n",
      "9459      0.202797                            9                      4   \n",
      "\n",
      "       nivel_ingles_enc  nivel_academico_enc  predicao  prob_contratacao  \n",
      "2470                  0                    0         1          0.920000  \n",
      "38534                 0                    0         1          0.810000  \n",
      "6591                  0                    0         1          0.920000  \n",
      "12520                 0                    0         1          0.830000  \n",
      "25813                 0                    0         1          0.850000  \n",
      "33835                 0                    0         1          0.930000  \n",
      "13202                 0                    0         1          0.930000  \n",
      "9055                  0                    0         1          0.910976  \n",
      "9459                  0                    0         1          0.911531  \n"
     ]
    }
   ],
   "source": [
    "import pandas as pd\n",
    "\n",
    "resultados = X_grande_prob.copy()\n",
    "resultados['predicao'] = y_pred_grande_prob\n",
    "resultados['prob_contratacao'] = y_prob_grande_prob\n",
    "print(resultados)"
   ]
  }
 ],
 "metadata": {
  "kernelspec": {
   "display_name": "venv",
   "language": "python",
   "name": "python3"
  },
  "language_info": {
   "codemirror_mode": {
    "name": "ipython",
    "version": 3
   },
   "file_extension": ".py",
   "mimetype": "text/x-python",
   "name": "python",
   "nbconvert_exporter": "python",
   "pygments_lexer": "ipython3",
   "version": "3.12.3"
  }
 },
 "nbformat": 4,
 "nbformat_minor": 5
}
